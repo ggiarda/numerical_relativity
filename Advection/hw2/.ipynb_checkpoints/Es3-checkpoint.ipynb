{
 "cells": [
  {
   "cell_type": "markdown",
   "id": "738fd111",
   "metadata": {},
   "source": [
    "# ES 3"
   ]
  },
  {
   "cell_type": "code",
   "execution_count": 1,
   "id": "5368f61d",
   "metadata": {},
   "outputs": [],
   "source": [
    "import glob\n",
    "import os\n",
    "import math\n",
    "import cmath\n",
    "import matplotlib.pyplot      as plt\n",
    "import numpy                  as np\n",
    "import scipy.constants        as sc\n",
    "import scipy.integrate        as spi\n",
    "os.makedirs('./conservative_burgers')\n",
    "os.makedirs('./nonconservative_burgers')"
   ]
  },
  {
   "cell_type": "code",
   "execution_count": 2,
   "id": "87189502",
   "metadata": {},
   "outputs": [],
   "source": [
    "conservative = []\n",
    "non_conservative = []\n",
    "x_c = []"
   ]
  },
  {
   "cell_type": "code",
   "execution_count": 3,
   "id": "2ae5245a",
   "metadata": {},
   "outputs": [],
   "source": [
    "#constant variable \n",
    "\n",
    "J = 101 # number of points in space lattice (resolution)\n",
    "a = 1. # velocity\n",
    "cf = 0.5  #curan factor\n",
    "x_max = 10. # maximum value of spatial lattice\n",
    "x_min = 0. # minimum value of spatial lattice\n",
    "\n",
    "# Global variable\n",
    "\n",
    "dx = (x_max - x_min)/(J-1) # lattice step\n",
    "# dt = cf * dx / (abs(a)) # time step\n",
    "x = np.linspace(x_min , x_max, J) #generate the space lattice\n",
    "u = np.zeros(J) # initializing function\n",
    "u_ret = np.zeros(J) # functiona at step n-1\n"
   ]
  },
  {
   "cell_type": "code",
   "execution_count": 4,
   "id": "a60c7172",
   "metadata": {},
   "outputs": [],
   "source": [
    "# Functions\n",
    "def L2norm():\n",
    "    '''\n",
    "       return to L2 discrete norm of a function\n",
    "    '''\n",
    "    global u\n",
    "    norm = np.sum(abs(u)**2)* dx\n",
    "    return norm \n",
    "\n",
    "def setGaussian(sigma, x_0) :\n",
    "    '''\n",
    "        sigma and x_0 has to be a number between 0 and 1\n",
    "        function gives a gaussian at t = 0\n",
    "    '''\n",
    "    global u \n",
    "    sigma = sigma * (x_max - x_min)\n",
    "    x_0 = x_0 * (x_max - x_min)\n",
    "    #u = (2/(np.pi*sigma**2))**0.25 * np.exp(- ((x - x_0)**2/(sigma**2)))\n",
    "    u = 10 * np.exp(- ((x - x_0)**2))\n",
    "    return u\n",
    "\n",
    "def setStep(l, center) :\n",
    "    global u \n",
    "    l = l * (x_max - x_min)\n",
    "    center = center * (x_max - x_min)\n",
    "    for i in range (J):\n",
    "        if x[i] < center - l/2 or x[i] > center + l/2:\n",
    "            u[i] = 0.\n",
    "        else:\n",
    "            u[i] = 1./np.sqrt(l)\n",
    "            \n",
    "def evolve_conservative() :\n",
    "    global u\n",
    "    u_next = np.zeros(J)\n",
    "    for j in range (len(u)):\n",
    "        u_next[j] = u[j] -  dt / dx * (0.5* u[j%len(u)]**2 -  0.5*u[(j-1)%len(u)]**2)\n",
    "    u = u_next\n",
    "    return u\n",
    "def evolve_noncons() :\n",
    "    global u\n",
    "    u_next = np.zeros(J)\n",
    "    for j in range (len(u)):\n",
    "        u_next[j] = u[j] -  dt / dx * u[j%len(u)]*( u[j%len(u)] -  u[(j-1)%len(u)])\n",
    "    u = u_next\n",
    "    return u"
   ]
  },
  {
   "cell_type": "markdown",
   "id": "7dec2ff5",
   "metadata": {},
   "source": [
    "# Conservative"
   ]
  },
  {
   "cell_type": "code",
   "execution_count": 5,
   "id": "c4fa7dca",
   "metadata": {},
   "outputs": [],
   "source": [
    "directory = \"./conservative_burgers/\"\n",
    "time = 0.5\n",
    "t = 0\n",
    "norm = []\n",
    "setGaussian(0.05, 0.5)\n",
    "dt = cf * dx / np.max(u)\n",
    "i  = 0\n",
    "while t <= time :\n",
    "    plt.ylim(0,10)\n",
    "    plt.plot(x,u)\n",
    "    plt.savefig('./conservative_burgers/images_'+str(i).zfill(5)+'.png', dpi = 720)\n",
    "    norm.append(L2norm())\n",
    "    evolve_conservative()\n",
    "    plt.close()\n",
    "    t = t + dt\n",
    "    i = i +1 \n",
    "conservative.append(u)\n",
    "x_c.append(x)"
   ]
  },
  {
   "cell_type": "code",
   "execution_count": 6,
   "id": "3a47da89",
   "metadata": {},
   "outputs": [
    {
     "ename": "ValueError",
     "evalue": "Could not find a backend to open `./burgers_conservative.mp4`` with iomode `wI`.\nBased on the extension, the following plugins might add capable backends:\n  FFMPEG:  pip install imageio[ffmpeg]\n  pyav:  pip install imageio[pyav]",
     "output_type": "error",
     "traceback": [
      "\u001b[0;31m---------------------------------------------------------------------------\u001b[0m",
      "\u001b[0;31mValueError\u001b[0m                                Traceback (most recent call last)",
      "Cell \u001b[0;32mIn[6], line 6\u001b[0m\n\u001b[1;32m      4\u001b[0m \u001b[38;5;28;01mimport\u001b[39;00m \u001b[38;5;21;01mimageio\u001b[39;00m\n\u001b[1;32m      5\u001b[0m \u001b[38;5;28;01mimport\u001b[39;00m \u001b[38;5;21;01mimageio\u001b[39;00m\u001b[38;5;21;01m.\u001b[39;00m\u001b[38;5;21;01mv2\u001b[39;00m \u001b[38;5;28;01mas\u001b[39;00m \u001b[38;5;21;01mimageio\u001b[39;00m\n\u001b[0;32m----> 6\u001b[0m \u001b[38;5;28;01mwith\u001b[39;00m \u001b[43mimageio\u001b[49m\u001b[38;5;241;43m.\u001b[39;49m\u001b[43mget_writer\u001b[49m\u001b[43m(\u001b[49m\u001b[38;5;124;43m'\u001b[39;49m\u001b[38;5;124;43m./burgers_conservative.mp4\u001b[39;49m\u001b[38;5;124;43m'\u001b[39;49m\u001b[43m,\u001b[49m\u001b[43m \u001b[49m\u001b[43mmode\u001b[49m\u001b[38;5;241;43m=\u001b[39;49m\u001b[38;5;124;43m'\u001b[39;49m\u001b[38;5;124;43mI\u001b[39;49m\u001b[38;5;124;43m'\u001b[39;49m\u001b[43m,\u001b[49m\u001b[43m \u001b[49m\u001b[43mquality\u001b[49m\u001b[38;5;241;43m=\u001b[39;49m\u001b[38;5;241;43m10\u001b[39;49m\u001b[43m)\u001b[49m \u001b[38;5;28;01mas\u001b[39;00m writer:\n\u001b[1;32m      7\u001b[0m     \u001b[38;5;28;01mfor\u001b[39;00m file \u001b[38;5;129;01min\u001b[39;00m files:\n\u001b[1;32m      8\u001b[0m         image \u001b[38;5;241m=\u001b[39m imageio\u001b[38;5;241m.\u001b[39mimread(\u001b[38;5;124m'\u001b[39m\u001b[38;5;124m./conservative_burgers/\u001b[39m\u001b[38;5;124m'\u001b[39m\u001b[38;5;241m+\u001b[39mfile)\n",
      "File \u001b[0;32m/Library/Frameworks/Python.framework/Versions/3.11/lib/python3.11/site-packages/imageio/v2.py:189\u001b[0m, in \u001b[0;36mget_writer\u001b[0;34m(uri, format, mode, **kwargs)\u001b[0m\n\u001b[1;32m    186\u001b[0m imopen_args \u001b[38;5;241m=\u001b[39m decypher_format_arg(\u001b[38;5;28mformat\u001b[39m)\n\u001b[1;32m    187\u001b[0m imopen_args[\u001b[38;5;124m\"\u001b[39m\u001b[38;5;124mlegacy_mode\u001b[39m\u001b[38;5;124m\"\u001b[39m] \u001b[38;5;241m=\u001b[39m \u001b[38;5;28;01mTrue\u001b[39;00m\n\u001b[0;32m--> 189\u001b[0m image_file \u001b[38;5;241m=\u001b[39m \u001b[43mimopen\u001b[49m\u001b[43m(\u001b[49m\u001b[43muri\u001b[49m\u001b[43m,\u001b[49m\u001b[43m \u001b[49m\u001b[38;5;124;43m\"\u001b[39;49m\u001b[38;5;124;43mw\u001b[39;49m\u001b[38;5;124;43m\"\u001b[39;49m\u001b[43m \u001b[49m\u001b[38;5;241;43m+\u001b[39;49m\u001b[43m \u001b[49m\u001b[43mmode\u001b[49m\u001b[43m,\u001b[49m\u001b[43m \u001b[49m\u001b[38;5;241;43m*\u001b[39;49m\u001b[38;5;241;43m*\u001b[39;49m\u001b[43mimopen_args\u001b[49m\u001b[43m)\u001b[49m\n\u001b[1;32m    190\u001b[0m \u001b[38;5;28;01mreturn\u001b[39;00m image_file\u001b[38;5;241m.\u001b[39mlegacy_get_writer(\u001b[38;5;241m*\u001b[39m\u001b[38;5;241m*\u001b[39mkwargs)\n",
      "File \u001b[0;32m/Library/Frameworks/Python.framework/Versions/3.11/lib/python3.11/site-packages/imageio/core/imopen.py:298\u001b[0m, in \u001b[0;36mimopen\u001b[0;34m(uri, io_mode, plugin, extension, format_hint, legacy_mode, **kwargs)\u001b[0m\n\u001b[1;32m    292\u001b[0m         err_msg \u001b[38;5;241m+\u001b[39m\u001b[38;5;241m=\u001b[39m (\n\u001b[1;32m    293\u001b[0m             \u001b[38;5;124m\"\u001b[39m\u001b[38;5;130;01m\\n\u001b[39;00m\u001b[38;5;124mBased on the extension, the following plugins might add capable backends:\u001b[39m\u001b[38;5;130;01m\\n\u001b[39;00m\u001b[38;5;124m\"\u001b[39m\n\u001b[1;32m    294\u001b[0m             \u001b[38;5;124mf\u001b[39m\u001b[38;5;124m\"\u001b[39m\u001b[38;5;132;01m{\u001b[39;00minstall_candidates\u001b[38;5;132;01m}\u001b[39;00m\u001b[38;5;124m\"\u001b[39m\n\u001b[1;32m    295\u001b[0m         )\n\u001b[1;32m    297\u001b[0m request\u001b[38;5;241m.\u001b[39mfinish()\n\u001b[0;32m--> 298\u001b[0m \u001b[38;5;28;01mraise\u001b[39;00m err_type(err_msg)\n",
      "\u001b[0;31mValueError\u001b[0m: Could not find a backend to open `./burgers_conservative.mp4`` with iomode `wI`.\nBased on the extension, the following plugins might add capable backends:\n  FFMPEG:  pip install imageio[ffmpeg]\n  pyav:  pip install imageio[pyav]"
     ]
    }
   ],
   "source": [
    "directory = \"./conservative_burgers/\"\n",
    "files = os.listdir(directory)\n",
    "files=sorted(files)\n",
    "import imageio\n",
    "import imageio.v2 as imageio\n",
    "with imageio.get_writer('./burgers_conservative.mp4', mode='I', quality=10) as writer:\n",
    "    for file in files:\n",
    "        image = imageio.imread('./conservative_burgers/'+file)\n",
    "        writer.append_data(image)\n",
    "        \n",
    "files=[]\n",
    "from IPython.display import HTML\n",
    "\n",
    "HTML(\"\"\"\n",
    "<div align=\"middle\">\n",
    "<video width=\"50%\" controls>\n",
    "      <source src=\"./burgers_conservative.mp4\" type=\"video/mp4\">\n",
    "</video></div>\"\"\")"
   ]
  },
  {
   "cell_type": "code",
   "execution_count": 8,
   "id": "391adae3",
   "metadata": {},
   "outputs": [],
   "source": [
    "u_conservative = u"
   ]
  },
  {
   "cell_type": "markdown",
   "id": "f0b73df7",
   "metadata": {},
   "source": [
    "# Non conservative"
   ]
  },
  {
   "cell_type": "code",
   "execution_count": 9,
   "id": "1320cf46",
   "metadata": {},
   "outputs": [],
   "source": [
    "directory = \"./nonconservative_burgers/\"\n",
    "time = 0.5\n",
    "t = 0\n",
    "norm = []\n",
    "setGaussian(0.05, 0.5)\n",
    "dt = cf * dx / np.max(u)\n",
    "while t < time :\n",
    "    #plt.ylim(0,10.1)\n",
    "    #plt.plot(x,u)\n",
    "    #plt.savefig('./nonconservative_burgers/images_'+str(t).zfill(5)+'.png', dpi = 720)\n",
    "    #norm.append(L2norm())\n",
    "    evolve_noncons()\n",
    "    #plt.close()\n",
    "    t = t + dt\n",
    "\n",
    "non_conservative.append(u)\n",
    "x_c.append(x)"
   ]
  },
  {
   "cell_type": "code",
   "execution_count": 10,
   "id": "ad8f8833",
   "metadata": {},
   "outputs": [
    {
     "data": {
      "image/png": "[encoded data removed]",
      "text/plain": [
       "<Figure size 432x288 with 1 Axes>"
      ]
     },
     "metadata": {
      "needs_background": "light"
     },
     "output_type": "display_data"
    }
   ],
   "source": [
    "plt.plot(x_c[0], u_conservative, label = str(len(x_c[0]))+  ' conservative')\n",
    "for i in range(len(non_conservative)-1):\n",
    "    plt.plot(x_c[i],non_conservative[i], label = str(len(x_c[i]))+  ' non conservative')\n",
    "    plt.ylim(0,10)\n",
    "    plt.legend()\n",
    "    plt.ylabel('u(x)')\n",
    "    plt.xlabel('x')\n",
    "plt.savefig('resolutions_nonconservative.eps', format= 'eps')"
   ]
  },
  {
   "cell_type": "code",
   "execution_count": 11,
   "id": "7bd28874",
   "metadata": {},
   "outputs": [
    {
     "data": {
      "text/html": [
       "\n",
       "<div align=\"middle\">\n",
       "<video width=\"50%\" controls>\n",
       "      <source src=\"./burgers_nonconservative.mp4\" type=\"video/mp4\">\n",
       "</video></div>"
      ],
      "text/plain": [
       "<IPython.core.display.HTML object>"
      ]
     },
     "execution_count": 11,
     "metadata": {},
     "output_type": "execute_result"
    }
   ],
   "source": [
    "directory = \"./nonconservative_burgers\"\n",
    "files = os.listdir(directory)\n",
    "files=sorted(files)\n",
    "import imageio\n",
    "import imageio.v2 as imageio\n",
    "with imageio.get_writer('./burgers_nonconservative.mp4', mode='I', quality=10) as writer:\n",
    "    for file in files:\n",
    "        image = imageio.imread('./nonconservative_burgers/'+file)\n",
    "        writer.append_data(image)\n",
    "        \n",
    "files=[]\n",
    "from IPython.display import HTML\n",
    "\n",
    "HTML(\"\"\"\n",
    "<div align=\"middle\">\n",
    "<video width=\"50%\" controls>\n",
    "      <source src=\"./burgers_nonconservative.mp4\" type=\"video/mp4\">\n",
    "</video></div>\"\"\")"
   ]
  },
  {
   "cell_type": "code",
   "execution_count": 12,
   "id": "da64a0cb",
   "metadata": {},
   "outputs": [],
   "source": [
    "import shutil\n",
    "shutil.rmtree('conservative_burgers')\n",
    "shutil.rmtree('nonconservative_burgers')"
   ]
  },
  {
   "cell_type": "code",
   "execution_count": 15,
   "id": "e39261a1",
   "metadata": {},
   "outputs": [
    {
     "data": {
      "text/plain": [
       "[1]"
      ]
     },
     "execution_count": 15,
     "metadata": {},
     "output_type": "execute_result"
    }
   ],
   "source": []
  },
  {
   "cell_type": "code",
   "execution_count": null,
   "id": "f93adbdc",
   "metadata": {},
   "outputs": [],
   "source": []
  }
 ],
 "metadata": {
  "kernelspec": {
   "display_name": "Python 3 (ipykernel)",
   "language": "python",
   "name": "python3"
  },
  "language_info": {
   "codemirror_mode": {
    "name": "ipython",
    "version": 3
   },
   "file_extension": ".py",
   "mimetype": "text/x-python",
   "name": "python",
   "nbconvert_exporter": "python",
   "pygments_lexer": "ipython3",
   "version": "3.11.2"
  }
 },
 "nbformat": 4,
 "nbformat_minor": 5
}
