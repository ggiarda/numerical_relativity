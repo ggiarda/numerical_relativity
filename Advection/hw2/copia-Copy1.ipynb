{
 "cells": [
  {
   "cell_type": "markdown",
   "id": "738fd111",
   "metadata": {},
   "source": [
    "# Burger's equation"
   ]
  },
  {
   "cell_type": "code",
   "execution_count": 7,
   "id": "5368f61d",
   "metadata": {},
   "outputs": [],
   "source": [
    "import matplotlib.pyplot      as plt\n",
    "import numpy                  as np"
   ]
  },
  {
   "cell_type": "code",
   "execution_count": null,
   "id": "2ae5245a",
   "metadata": {},
   "outputs": [],
   "source": [
    "# Space\n",
    "L = 10.0     \n",
    "nx = 101    \n",
    "dx = L/(nx-1)   \n",
    "x = np.linspace(0, L, nx)\n",
    "\n",
    "# Define the initial condition\n",
    "u_initial = 10*np.exp(-(x-5)**2)\n",
    "\n",
    "# Time\n",
    "cf = 0.5\n",
    "t_final = 0.5\n",
    "dt = cf * dx \n",
    "t_final_values = [t_final/10,t_final/2,t_final]\n",
    "\n",
    "u_current = u_initial"
   ]
  },
  {
   "cell_type": "code",
   "execution_count": null,
   "id": "8570f208",
   "metadata": {},
   "outputs": [],
   "source": [
    "solutions_nc = []\n",
    "solutions_c = []"
   ]
  },
  {
   "cell_type": "code",
   "execution_count": 10,
   "id": "a60c7172",
   "metadata": {},
   "outputs": [],
   "source": [
    "def evolve_conservative() :\n",
    "    global u\n",
    "    u_next = np.zeros(nx)\n",
    "    for j in range (len(u)):\n",
    "        u_next[j] = u[j] -  dt / dx * (0.5* u[j%len(u)]**2 -  0.5*u[(j-1)%len(u)]**2)\n",
    "    u = u_next\n",
    "    return u\n",
    "\n",
    "def evolve_noncons() :\n",
    "    global u\n",
    "    u_next = np.zeros(nx)\n",
    "    for j in range (len(u)):\n",
    "        u_next[j] = u[j] -  dt / dx * u[j%len(u)]*( u[j%len(u)] -  u[(j-1)%len(u)])\n",
    "    u = u_next\n",
    "    return u"
   ]
  },
  {
   "cell_type": "markdown",
   "id": "7dec2ff5",
   "metadata": {},
   "source": [
    "# Conservative"
   ]
  },
  {
   "cell_type": "code",
   "execution_count": 11,
   "id": "c4fa7dca",
   "metadata": {},
   "outputs": [],
   "source": [
    "u_current = u_initial\n",
    "t = 0\n",
    "\n",
    "while t <= t_final :\n",
    "    \n",
    "    if any(abs(t - val) < dt for val in t_final_values):\n",
    "        # Append the current solution to the solutions list\n",
    "        solutions_nc.append(u_current.copy())\n",
    "        \n",
    "    u_next =  u_current - dt/(dx)*(0.5*u_current**2 - 0.5*np.roll(u_current, 1)**2)     \n",
    "    u_current = u_next.copy()\n",
    "    \n",
    "    t = t + dt\n",
    "\n",
    "u_conservative = u_current"
   ]
  },
  {
   "cell_type": "code",
   "execution_count": 12,
   "id": "3a47da89",
   "metadata": {},
   "outputs": [
    {
     "data": {
      "image/png": "[encoded data removed]",
      "text/plain": [
       "<Figure size 640x480 with 1 Axes>"
      ]
     },
     "metadata": {},
     "output_type": "display_data"
    }
   ],
   "source": [
    "plt.ylim(0,10)\n",
    "plt.plot(x,u_conservative)\n",
    "plt.show()"
   ]
  },
  {
   "cell_type": "markdown",
   "id": "f0b73df7",
   "metadata": {},
   "source": [
    "# Non conservative"
   ]
  },
  {
   "cell_type": "code",
   "execution_count": 13,
   "id": "1320cf46",
   "metadata": {},
   "outputs": [],
   "source": [
    "u_current = u_initial\n",
    "t = 0\n",
    "\n",
    "while t <= t_final :\n",
    "    \n",
    "    if any(abs(t - val) < dt for val in t_final_values):\n",
    "        # Append the current solution to the solutions list\n",
    "        solutions_nc.append(u_current.copy())\n",
    "        \n",
    "    u_next =  u_current - u_current*dt/(dx)*(u_current - np.roll(u_current, 1))\n",
    "    u_current = u_next.copy()\n",
    "    \n",
    "    t = t + dt\n",
    "\n",
    "u_non_conservative = u_current"
   ]
  },
  {
   "cell_type": "code",
   "execution_count": null,
   "id": "26c6ac70",
   "metadata": {},
   "outputs": [],
   "source": [
    "#plt.ylim(0,10)\n",
    "plt.plot(x,u_non_conservative)\n",
    "plt.show()"
   ]
  },
  {
   "cell_type": "code",
   "execution_count": null,
   "id": "957917b3",
   "metadata": {},
   "outputs": [],
   "source": [
    "plt.plot(x, u_initial, label='Initial')\n",
    "plt.plot(x,u_non_conservative,label='Conservative')\n",
    "plt.plot(x,u_conservative,label='Non Conservative')\n",
    "plt.xlabel('x')\n",
    "plt.ylabel('u')\n",
    "plt.legend()\n",
    "plt.show()"
   ]
  },
  {
   "cell_type": "markdown",
   "id": "c49b9851",
   "metadata": {},
   "source": [
    "# Plots"
   ]
  },
  {
   "cell_type": "code",
   "execution_count": null,
   "id": "46c3c3d4",
   "metadata": {},
   "outputs": [],
   "source": [
    "# Plot the final solution\n",
    "plt.title('Upwind flux-conservative Scheme Burger equation')\n",
    "plt.plot(x, u_initial, label='Initial')\n",
    "\n",
    "plt.plot(x, solutions_c[0], label='Time=' + str(t_final_values[0]))\n",
    "plt.plot(x, solutions_c[1], label='Time=' + str(t_final_values[1]))\n",
    "plt.plot(x, solutions_c[2], label='Time=' + str(t_final_values[2]))\n",
    "\n",
    "#plt.ylim(0, 1.1)\n",
    "plt.xlabel('x')\n",
    "plt.ylabel('u')\n",
    "plt.legend()\n",
    "#plt.savefig('Burger FC.png')\n",
    "plt.show()"
   ]
  },
  {
   "cell_type": "code",
   "execution_count": null,
   "id": "bfe84845",
   "metadata": {},
   "outputs": [],
   "source": [
    "# Plot the final solution\n",
    "plt.title('Upwind non flux-conservative Scheme Burger equation')\n",
    "plt.plot(x, u_initial, label='Initial')\n",
    "\n",
    "plt.plot(x, solutions_nc[0], label='Time=' + str(t_final_values[0]))\n",
    "plt.plot(x, solutions_nc[1], label='Time=' + str(t_final_values[1]))\n",
    "plt.plot(x, solutions_nc[2], label='Time=' + str(t_final_values[2]))\n",
    "\n",
    "#plt.ylim(0, 1.1)\n",
    "plt.xlabel('x')\n",
    "plt.ylabel('u')\n",
    "plt.legend()\n",
    "#plt.savefig('Burger FNC.png')\n",
    "plt.show()"
   ]
  },
  {
   "cell_type": "code",
   "execution_count": null,
   "id": "606f96d1",
   "metadata": {},
   "outputs": [],
   "source": [
    "# Plot the final solution\n",
    "plt.title('Upwind flux-conservative Scheme Burger equation')\n",
    "plt.plot(x, u_initial, label='Initial')\n",
    "\n",
    "plt.plot(x, solutions_c[0], label='C Time=' + str(t_final_values[0]))\n",
    "plt.plot(x, solutions_c[1], label='C Time=' + str(t_final_values[1]))\n",
    "plt.plot(x, solutions_c[2], label='C Time=' + str(t_final_values[2]))\n",
    "plt.plot(x, solutions_nc[0], label='NC Time=' + str(t_final_values[0]))\n",
    "plt.plot(x, solutions_nc[1], label='NC Time=' + str(t_final_values[1]))\n",
    "plt.plot(x, solutions_nc[2], label='NC Time=' + str(t_final_values[2]))\n",
    "\n",
    "#plt.ylim(0, 1.1)\n",
    "plt.xlabel('x')\n",
    "plt.ylabel('u')\n",
    "plt.legend()\n",
    "#plt.savefig('Burger.png')\n",
    "plt.show()"
   ]
  },
  {
   "cell_type": "code",
   "execution_count": null,
   "id": "2ea8e1b6",
   "metadata": {},
   "outputs": [],
   "source": []
  },
  {
   "cell_type": "code",
   "execution_count": null,
   "id": "007ef6cf",
   "metadata": {},
   "outputs": [],
   "source": []
  },
  {
   "cell_type": "code",
   "execution_count": null,
   "id": "c8fd14d1",
   "metadata": {},
   "outputs": [],
   "source": []
  },
  {
   "cell_type": "code",
   "execution_count": null,
   "id": "a5182ba2",
   "metadata": {},
   "outputs": [],
   "source": []
  },
  {
   "cell_type": "code",
   "execution_count": null,
   "id": "d7b5e921",
   "metadata": {},
   "outputs": [],
   "source": []
  },
  {
   "cell_type": "code",
   "execution_count": null,
   "id": "3258dc0a",
   "metadata": {},
   "outputs": [],
   "source": []
  },
  {
   "cell_type": "code",
   "execution_count": null,
   "id": "01980e22",
   "metadata": {},
   "outputs": [],
   "source": []
  },
  {
   "cell_type": "code",
   "execution_count": null,
   "id": "c20dd8b8",
   "metadata": {},
   "outputs": [],
   "source": []
  }
 ],
 "metadata": {
  "kernelspec": {
   "display_name": "Python 3 (ipykernel)",
   "language": "python",
   "name": "python3"
  },
  "language_info": {
   "codemirror_mode": {
    "name": "ipython",
    "version": 3
   },
   "file_extension": ".py",
   "mimetype": "text/x-python",
   "name": "python",
   "nbconvert_exporter": "python",
   "pygments_lexer": "ipython3",
   "version": "3.11.2"
  }
 },
 "nbformat": 4,
 "nbformat_minor": 5
}
